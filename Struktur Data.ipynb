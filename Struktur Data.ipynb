{
 "cells": [
  {
   "cell_type": "code",
   "execution_count": 1,
   "metadata": {},
   "outputs": [
    {
     "output_type": "stream",
     "name": "stdout",
     "text": "[1. 2. 3.]\n(3,)\nfloat64\n"
    }
   ],
   "source": [
    "# numpy array \n",
    "# numpy with ndarray used as the primary data structure for representing data\n",
    "# create array\n",
    "from numpy import array\n",
    "# create array\n",
    "l = [1.0, 2.0, 3.0]\n",
    "a = array(l)\n",
    "# display array\n",
    "print(a)\n",
    "# display array shape\n",
    "print(a.shape)\n",
    "# display array data type\n",
    "print(a.dtype)"
   ]
  },
  {
   "cell_type": "code",
   "execution_count": 19,
   "metadata": {},
   "outputs": [
    {
     "output_type": "execute_result",
     "data": {
      "text/plain": "int"
     },
     "metadata": {},
     "execution_count": 19
    }
   ],
   "source": [
    "# data type at python\n",
    "type(1234)"
   ]
  },
  {
   "cell_type": "code",
   "execution_count": 18,
   "metadata": {},
   "outputs": [
    {
     "output_type": "execute_result",
     "data": {
      "text/plain": "float"
     },
     "metadata": {},
     "execution_count": 18
    }
   ],
   "source": [
    "type(18.80)"
   ]
  },
  {
   "cell_type": "code",
   "execution_count": 20,
   "metadata": {},
   "outputs": [
    {
     "output_type": "execute_result",
     "data": {
      "text/plain": "complex"
     },
     "metadata": {},
     "execution_count": 20
    }
   ],
   "source": [
    "type(6+4j)"
   ]
  },
  {
   "cell_type": "code",
   "execution_count": 21,
   "metadata": {},
   "outputs": [
    {
     "output_type": "execute_result",
     "data": {
      "text/plain": "str"
     },
     "metadata": {},
     "execution_count": 21
    }
   ],
   "source": [
    "type(\"Hello World\")"
   ]
  },
  {
   "cell_type": "code",
   "execution_count": 22,
   "metadata": {},
   "outputs": [
    {
     "output_type": "execute_result",
     "data": {
      "text/plain": "list"
     },
     "metadata": {},
     "execution_count": 22
    }
   ],
   "source": [
    "type([1,2,3,4])"
   ]
  },
  {
   "cell_type": "code",
   "execution_count": 23,
   "metadata": {},
   "outputs": [
    {
     "output_type": "execute_result",
     "data": {
      "text/plain": "dict"
     },
     "metadata": {},
     "execution_count": 23
    }
   ],
   "source": [
    "type({1:\"one\", 2:\"two\", 3:\"three\"})"
   ]
  },
  {
   "cell_type": "code",
   "execution_count": 26,
   "metadata": {},
   "outputs": [
    {
     "output_type": "stream",
     "name": "stdout",
     "text": "[[1.06249740e-312 0.00000000e+000 1.06395697e+224]\n [4.25330994e+174 4.67104847e-062 2.17435387e-076]\n [8.00377178e+169 3.89681814e-086 6.27207943e-310]]\n[[0. 0. 0. 0. 0.]\n [0. 0. 0. 0. 0.]\n [0. 0. 0. 0. 0.]]\n"
    }
   ],
   "source": [
    "# create empty array\n",
    "from numpy import empty\n",
    "g = empty([3,3])\n",
    "print(g)\n",
    "# create zerro array\n",
    "from numpy import zeros\n",
    "g_1 = zeros([3,5])\n",
    "print(g_1)"
   ]
  },
  {
   "cell_type": "code",
   "execution_count": 33,
   "metadata": {
    "tags": [
     "outputPrepend"
    ]
   },
   "outputs": [],
   "source": [
    "# help('numpy')\n",
    "# help('zeroes')"
   ]
  },
  {
   "cell_type": "code",
   "execution_count": 34,
   "metadata": {},
   "outputs": [
    {
     "output_type": "stream",
     "name": "stdout",
     "text": "[1. 1. 1. 1. 1.]\n"
    }
   ],
   "source": [
    "from numpy import ones\n",
    "g_2 = ones([5])\n",
    "print(g_2)"
   ]
  },
  {
   "cell_type": "code",
   "execution_count": 1,
   "metadata": {},
   "outputs": [
    {
     "output_type": "stream",
     "name": "stdout",
     "text": "[1 2 3]\n[4 5 6]\n[[1 2 3]\n [4 5 6]]\n(2, 3)\n"
    }
   ],
   "source": [
    "# Combining Arrays\n",
    "from numpy import array\n",
    "from numpy import vstack\n",
    "# create first array\n",
    "a1 = array([1,2,3])\n",
    "print(a1)\n",
    "# create second array\n",
    "a2 = array([4,5,6])\n",
    "print(a2)\n",
    "# vertical stack\n",
    "a3 = vstack((a1,a2))\n",
    "print(a3)\n",
    "print(a3.shape)"
   ]
  },
  {
   "cell_type": "code",
   "execution_count": 2,
   "metadata": {},
   "outputs": [
    {
     "output_type": "stream",
     "name": "stdout",
     "text": "[1 2 3]\n[4 5 6]\n[1 2 3 4 5 6]\n(6,)\n"
    }
   ],
   "source": [
    "# horizontal stack\n",
    "from numpy import array\n",
    "from numpy import hstack\n",
    "# create first array\n",
    "a1 = array([1,2,3])\n",
    "print(a1)\n",
    "# create second array\n",
    "a2 = array([4,5,6])\n",
    "print(a2)\n",
    "# create horizontal stack\n",
    "a3 = hstack((a1,a2))\n",
    "print(a3)\n",
    "print(a3.shape)\n",
    ""
   ]
  },
  {
   "cell_type": "code",
   "execution_count": 3,
   "metadata": {},
   "outputs": [
    {
     "output_type": "stream",
     "name": "stdout",
     "text": "[11 22 33 44 55]\n<class 'numpy.ndarray'>\n"
    }
   ],
   "source": [
    "# One-Dimensional List to Array\n",
    "from numpy import array\n",
    "# list of data\n",
    "data = [11,22,33,44,55]\n",
    "# array of data\n",
    "data = array(data)\n",
    "print(data)\n",
    "print(type(data))"
   ]
  },
  {
   "cell_type": "code",
   "execution_count": 6,
   "metadata": {},
   "outputs": [
    {
     "output_type": "stream",
     "name": "stdout",
     "text": "[[11 22]\n [33 44]\n [55 66]]\n(3, 2)\n<class 'numpy.ndarray'>\n"
    }
   ],
   "source": [
    "# Two-Dimensional List of Lists to Array\n",
    "from numpy import array\n",
    "# list of data\n",
    "data = [[11,22],[33,44],[55,66]]\n",
    "# array of data\n",
    "data = array(data)\n",
    "print(data)\n",
    "print(data.shape)\n",
    "print(type(data))"
   ]
  },
  {
   "cell_type": "code",
   "execution_count": 8,
   "metadata": {},
   "outputs": [
    {
     "output_type": "stream",
     "name": "stdout",
     "text": "[11 22 33 44 55]\n11\n55\n"
    }
   ],
   "source": [
    "# array indexing\n",
    "# One-Dimensional Indexing\n",
    "from numpy import array\n",
    "# define array\n",
    "data = array([11,22,33,44,55])\n",
    "# index data\n",
    "print(data)\n",
    "print(data[0])\n",
    "print(data[4])\n",
    "\n",
    ""
   ]
  },
  {
   "cell_type": "code",
   "execution_count": 1,
   "metadata": {},
   "outputs": [
    {
     "output_type": "error",
     "ename": "IndexError",
     "evalue": "index 5 is out of bounds for axis 0 with size 5",
     "traceback": [
      "\u001b[1;31m---------------------------------------------------------------------------\u001b[0m",
      "\u001b[1;31mIndexError\u001b[0m                                Traceback (most recent call last)",
      "\u001b[1;32m<ipython-input-1-309de2390f3e>\u001b[0m in \u001b[0;36m<module>\u001b[1;34m\u001b[0m\n\u001b[0;32m      4\u001b[0m \u001b[0mdata\u001b[0m \u001b[1;33m=\u001b[0m \u001b[0marray\u001b[0m\u001b[1;33m(\u001b[0m\u001b[1;33m[\u001b[0m\u001b[1;36m11\u001b[0m\u001b[1;33m,\u001b[0m\u001b[1;36m22\u001b[0m\u001b[1;33m,\u001b[0m\u001b[1;36m33\u001b[0m\u001b[1;33m,\u001b[0m\u001b[1;36m44\u001b[0m\u001b[1;33m,\u001b[0m\u001b[1;36m55\u001b[0m\u001b[1;33m]\u001b[0m\u001b[1;33m)\u001b[0m\u001b[1;33m\u001b[0m\u001b[0m\n\u001b[0;32m      5\u001b[0m \u001b[1;31m# index data\u001b[0m\u001b[1;33m\u001b[0m\u001b[1;33m\u001b[0m\u001b[0m\n\u001b[1;32m----> 6\u001b[1;33m \u001b[0mprint\u001b[0m\u001b[1;33m(\u001b[0m\u001b[0mdata\u001b[0m\u001b[1;33m[\u001b[0m\u001b[1;36m5\u001b[0m\u001b[1;33m]\u001b[0m\u001b[1;33m)\u001b[0m\u001b[1;33m\u001b[0m\u001b[0m\n\u001b[0m",
      "\u001b[1;31mIndexError\u001b[0m: index 5 is out of bounds for axis 0 with size 5"
     ]
    }
   ],
   "source": [
    "# index array out of bounds\n",
    "from numpy import array\n",
    "# define array\n",
    "data = array([11,22,33,44,55])\n",
    "# index data\n",
    "print(data[5])"
   ]
  },
  {
   "cell_type": "code",
   "execution_count": 2,
   "metadata": {},
   "outputs": [
    {
     "output_type": "stream",
     "name": "stdout",
     "text": "55\n11\n"
    }
   ],
   "source": [
    "# negative array indexing\n",
    "from numpy import array \n",
    "# define array\n",
    "data = array([11,22,33,44,55])\n",
    "# index data\n",
    "print(data[-1])\n",
    "print(data[-5])"
   ]
  },
  {
   "cell_type": "code",
   "execution_count": 4,
   "metadata": {},
   "outputs": [
    {
     "output_type": "stream",
     "name": "stdout",
     "text": "11\n"
    }
   ],
   "source": [
    "# Two-Dimensional Indexing\n",
    "# index two-dimensional array\n",
    "from numpy import array\n",
    "# define array\n",
    "data = array([[11,22], [33,44], [55,66]])\n",
    "# index data\n",
    "print(data[0,0])"
   ]
  },
  {
   "cell_type": "code",
   "execution_count": 5,
   "metadata": {},
   "outputs": [
    {
     "output_type": "stream",
     "name": "stdout",
     "text": "(3, 2)\n"
    }
   ],
   "source": [
    "print(data.shape)"
   ]
  },
  {
   "cell_type": "code",
   "execution_count": 6,
   "metadata": {},
   "outputs": [
    {
     "output_type": "stream",
     "name": "stdout",
     "text": "22\n"
    }
   ],
   "source": [
    "print(data[0,1])"
   ]
  },
  {
   "cell_type": "code",
   "execution_count": 9,
   "metadata": {},
   "outputs": [
    {
     "output_type": "stream",
     "name": "stdout",
     "text": "44\n"
    }
   ],
   "source": [
    "print(data[1,1])"
   ]
  },
  {
   "cell_type": "code",
   "execution_count": 11,
   "metadata": {},
   "outputs": [
    {
     "output_type": "error",
     "ename": "IndexError",
     "evalue": "index 2 is out of bounds for axis 1 with size 2",
     "traceback": [
      "\u001b[1;31m---------------------------------------------------------------------------\u001b[0m",
      "\u001b[1;31mIndexError\u001b[0m                                Traceback (most recent call last)",
      "\u001b[1;32m<ipython-input-11-6d471eb0ec74>\u001b[0m in \u001b[0;36m<module>\u001b[1;34m\u001b[0m\n\u001b[1;32m----> 1\u001b[1;33m \u001b[0mprint\u001b[0m\u001b[1;33m(\u001b[0m\u001b[0mdata\u001b[0m\u001b[1;33m[\u001b[0m\u001b[1;36m0\u001b[0m\u001b[1;33m,\u001b[0m\u001b[1;36m2\u001b[0m\u001b[1;33m]\u001b[0m\u001b[1;33m)\u001b[0m\u001b[1;33m\u001b[0m\u001b[0m\n\u001b[0m",
      "\u001b[1;31mIndexError\u001b[0m: index 2 is out of bounds for axis 1 with size 2"
     ]
    }
   ],
   "source": [
    "print(data[0,2])"
   ]
  },
  {
   "cell_type": "code",
   "execution_count": 12,
   "metadata": {},
   "outputs": [
    {
     "output_type": "error",
     "ename": "IndexError",
     "evalue": "index 3 is out of bounds for axis 0 with size 3",
     "traceback": [
      "\u001b[1;31m---------------------------------------------------------------------------\u001b[0m",
      "\u001b[1;31mIndexError\u001b[0m                                Traceback (most recent call last)",
      "\u001b[1;32m<ipython-input-12-7750a27e55f2>\u001b[0m in \u001b[0;36m<module>\u001b[1;34m\u001b[0m\n\u001b[1;32m----> 1\u001b[1;33m \u001b[0mprint\u001b[0m\u001b[1;33m(\u001b[0m\u001b[0mdata\u001b[0m\u001b[1;33m[\u001b[0m\u001b[1;36m3\u001b[0m\u001b[1;33m,\u001b[0m\u001b[1;36m1\u001b[0m\u001b[1;33m]\u001b[0m\u001b[1;33m)\u001b[0m\u001b[1;33m\u001b[0m\u001b[0m\n\u001b[0m",
      "\u001b[1;31mIndexError\u001b[0m: index 3 is out of bounds for axis 0 with size 3"
     ]
    }
   ],
   "source": [
    "print(data[3,1])"
   ]
  },
  {
   "cell_type": "code",
   "execution_count": 13,
   "metadata": {},
   "outputs": [
    {
     "output_type": "stream",
     "name": "stdout",
     "text": "66\n"
    }
   ],
   "source": [
    "print(data[2,1])"
   ]
  },
  {
   "cell_type": "code",
   "execution_count": 14,
   "metadata": {},
   "outputs": [
    {
     "output_type": "stream",
     "name": "stdout",
     "text": "55\n"
    }
   ],
   "source": [
    "print(data[2,0])"
   ]
  },
  {
   "cell_type": "code",
   "execution_count": 15,
   "metadata": {},
   "outputs": [
    {
     "output_type": "stream",
     "name": "stdout",
     "text": "[11 22]\n"
    }
   ],
   "source": [
    "# index row of two-dimensional array\n",
    "from numpy import array\n",
    "# define array\n",
    "data = array([[11,22],[33,44],[55,66]])\n",
    "# index data\n",
    "print(data[0,])"
   ]
  },
  {
   "cell_type": "code",
   "execution_count": 17,
   "metadata": {},
   "outputs": [
    {
     "output_type": "stream",
     "name": "stdout",
     "text": "[33 44]\n"
    }
   ],
   "source": [
    "print(data[1,])"
   ]
  },
  {
   "cell_type": "code",
   "execution_count": 18,
   "metadata": {},
   "outputs": [
    {
     "output_type": "stream",
     "name": "stdout",
     "text": "[11 22 33 44 55]\n"
    }
   ],
   "source": [
    "# array slicing\n",
    "# One-Dimensional Slicing\n",
    "from numpy import array\n",
    "# define array\n",
    "data = array([11,22,33,44,55])\n",
    "print(data[:])"
   ]
  },
  {
   "cell_type": "code",
   "execution_count": 19,
   "metadata": {},
   "outputs": [
    {
     "output_type": "stream",
     "name": "stdout",
     "text": "[11 22 33 44 55]\n"
    }
   ],
   "source": [
    "print(data)"
   ]
  },
  {
   "cell_type": "code",
   "execution_count": 20,
   "metadata": {},
   "outputs": [
    {
     "output_type": "stream",
     "name": "stdout",
     "text": "[11]\n"
    }
   ],
   "source": [
    "# slice a subset of a one-dimensional array\n",
    "from numpy import array\n",
    "# define array\n",
    "data = array([11,22,33,44,55])\n",
    "print(data[0:1])"
   ]
  },
  {
   "cell_type": "code",
   "execution_count": 24,
   "metadata": {},
   "outputs": [
    {
     "output_type": "stream",
     "name": "stdout",
     "text": "[11 22]\n[11 22 33]\n[11 22 33 44]\n[11 22 33 44 55]\n"
    }
   ],
   "source": [
    "print(data[0:2])\n",
    "print(data[0:3])\n",
    "print(data[0:4])\n",
    "print(data[0:5])"
   ]
  },
  {
   "cell_type": "code",
   "execution_count": 22,
   "metadata": {},
   "outputs": [
    {
     "output_type": "stream",
     "name": "stdout",
     "text": "(5,)\n"
    }
   ],
   "source": [
    "print(data.shape)"
   ]
  },
  {
   "cell_type": "code",
   "execution_count": 25,
   "metadata": {},
   "outputs": [
    {
     "output_type": "stream",
     "name": "stdout",
     "text": "[22]\n[22 33]\n[22 33 44]\n"
    }
   ],
   "source": [
    "print(data[1:2])\n",
    "print(data[1:3])\n",
    "print(data[1:4])"
   ]
  },
  {
   "cell_type": "code",
   "execution_count": 27,
   "metadata": {},
   "outputs": [
    {
     "output_type": "stream",
     "name": "stdout",
     "text": "[44 55]\n[33 44 55]\n[22 33 44 55]\n"
    }
   ],
   "source": [
    "# negative slicing of a one-dimensional array\n",
    "from numpy import array\n",
    "# define array\n",
    "data = array([11,22,33,44,55])\n",
    "print(data[-2:])\n",
    "print(data[-3:])\n",
    "print(data[-4:])"
   ]
  },
  {
   "cell_type": "code",
   "execution_count": 28,
   "metadata": {},
   "outputs": [
    {
     "output_type": "stream",
     "name": "stdout",
     "text": "[[11 22]\n [44 55]\n [77 88]]\n[33 66 99]\n"
    }
   ],
   "source": [
    "# Two-Dimensional Slicing\n",
    "# split input and output data\n",
    "from numpy import array\n",
    "# define array\n",
    "data = array([[11,22,33],[44,55,66],[77,88,99]])\n",
    "# seperate data\n",
    "X, y = data[:,:-1], data[:, -1]\n",
    "print(X)\n",
    "print(y)"
   ]
  },
  {
   "cell_type": "code",
   "execution_count": 37,
   "metadata": {},
   "outputs": [
    {
     "output_type": "stream",
     "name": "stdout",
     "text": "[33 66 99]\n[22 55 88]\n[11 44 77]\n"
    }
   ],
   "source": [
    "print(data[:,-1])\n",
    "print(data[:,-2])\n",
    "print(data[:,-3])"
   ]
  },
  {
   "cell_type": "code",
   "execution_count": 36,
   "metadata": {},
   "outputs": [
    {
     "output_type": "stream",
     "name": "stdout",
     "text": "(3, 3)\n"
    }
   ],
   "source": [
    "print(data.shape)"
   ]
  },
  {
   "cell_type": "code",
   "execution_count": 41,
   "metadata": {},
   "outputs": [
    {
     "output_type": "stream",
     "name": "stdout",
     "text": "[[11 22]\n [44 55]\n [77 88]]\n[[11]\n [44]\n [77]]\n"
    }
   ],
   "source": [
    "data_1 = data[:,:-1]\n",
    "print(data_1)\n",
    "data_2 = data[:,:-2]\n",
    "print(data_2)"
   ]
  },
  {
   "cell_type": "code",
   "execution_count": 43,
   "metadata": {},
   "outputs": [
    {
     "output_type": "stream",
     "name": "stdout",
     "text": "[]\n"
    }
   ],
   "source": [
    "data_3 = data[:,:-0]\n",
    "print(data_3)"
   ]
  },
  {
   "cell_type": "code",
   "execution_count": 2,
   "metadata": {},
   "outputs": [
    {
     "output_type": "stream",
     "name": "stdout",
     "text": "[[11 22 33]\n [44 55 66]]\n[[77 88 99]]\n"
    }
   ],
   "source": [
    "# Split Train and Test Rows\n",
    "# we can split the dataset at the contrived split point of 2\n",
    "from numpy import array\n",
    "# define array\n",
    "data = array([[11,22,33],[44,55,66],[77,88,99]])\n",
    "# separate data\n",
    "split = 2\n",
    "train, test = data[:split,:], data[split:,:]\n",
    "print(train) #data baris pertama kedua \n",
    "print(test) # data baris terakhir"
   ]
  },
  {
   "cell_type": "code",
   "execution_count": 4,
   "metadata": {},
   "outputs": [
    {
     "output_type": "stream",
     "name": "stdout",
     "text": "(5,)\n"
    }
   ],
   "source": [
    "# Data Shape\n",
    "# menunjukan dimensi array dari suatu data\n",
    "# one-dimensional array\n",
    "from numpy import array \n",
    "# define array \n",
    "data = array([11,22,33,44,55])\n",
    "print(data.shape)"
   ]
  },
  {
   "cell_type": "code",
   "execution_count": 6,
   "metadata": {},
   "outputs": [
    {
     "output_type": "stream",
     "name": "stdout",
     "text": "(3, 2)\nRows:3\nCols:2\n"
    }
   ],
   "source": [
    "# Data shape\n",
    "# two-dimensional array\n",
    "data=[[11,22],[33,44],[55,66]]\n",
    "data=array(data)\n",
    "print(data.shape)\n",
    "print('Rows:%d'% data.shape[0])\n",
    "print('Cols:%d'% data.shape[1])"
   ]
  },
  {
   "cell_type": "code",
   "execution_count": 2,
   "metadata": {},
   "outputs": [
    {
     "output_type": "stream",
     "name": "stdout",
     "text": "(5,)\n(5, 1)\n"
    }
   ],
   "source": [
    "# Reshape 1D to 2D Array\n",
    "from numpy import array\n",
    "data = array([11,22,33,44,55])\n",
    "print(data.shape)\n",
    "# reshape\n",
    "data = data.reshape((data.shape[0],1))\n",
    "print(data.shape)"
   ]
  },
  {
   "cell_type": "code",
   "execution_count": 3,
   "metadata": {},
   "outputs": [
    {
     "output_type": "stream",
     "name": "stdout",
     "text": "(3, 2)\n(3, 2, 1)\n"
    }
   ],
   "source": [
    "# reshape 2D array to 3D\n",
    "from numpy import array\n",
    "data = [[11,22],[33,44],[55,66]]\n",
    "data = array(data)\n",
    "print(data.shape)\n",
    "# reshape\n",
    "data = data.reshape((data.shape[0], data.shape[1], 1))\n",
    "print(data.shape)"
   ]
  },
  {
   "cell_type": "code",
   "execution_count": 2,
   "metadata": {},
   "outputs": [
    {
     "output_type": "stream",
     "name": "stdout",
     "text": "[1 2 3]\n2\n[3 4 5]\n"
    }
   ],
   "source": [
    "# array arithmetic between arrays with a di\u000berent shape or size\n",
    "# array arithmetic dalam numpy dinamakan sebagai array broadcasting\n",
    "from numpy import array\n",
    "a = array([1,2,3])\n",
    "print(a)\n",
    "b = 2\n",
    "print(b)\n",
    "# broadcast\n",
    "c = a + b\n",
    "print(c)\n"
   ]
  },
  {
   "cell_type": "code",
   "execution_count": 4,
   "metadata": {},
   "outputs": [
    {
     "output_type": "stream",
     "name": "stdout",
     "text": "[[1 2 3]\n [1 2 3]]\n2\n[[3 4 5]\n [3 4 5]]\n"
    }
   ],
   "source": [
    "# Scalar dan 2-Dimensional Array\n",
    "from numpy import array\n",
    "A = array([[1,2,3], [1,2,3]])\n",
    "print(A)\n",
    "b = 2\n",
    "print(b)\n",
    "C = A + b\n",
    "print(C)"
   ]
  },
  {
   "cell_type": "code",
   "execution_count": 6,
   "metadata": {},
   "outputs": [
    {
     "output_type": "stream",
     "name": "stdout",
     "text": "[[1 2 3]\n [1 2 3]]\n[1 2 3]\n[[2 4 6]\n [2 4 6]]\n"
    }
   ],
   "source": [
    "# broadcast 1-Dimensional to 2-dimensional array\n",
    "# broadcast array tidak bekerja untuk dimensi kolom yang berbeda\n",
    "from numpy import array\n",
    "# 2-Dimensional array\n",
    "A = array([[1,2,3],[1,2,3]])\n",
    "print(A)\n",
    "# 1-Dimensional array\n",
    "b = array([1,2,3])\n",
    "print(b)\n",
    "C = A + b\n",
    "print(C)"
   ]
  },
  {
   "cell_type": "code",
   "execution_count": 15,
   "metadata": {},
   "outputs": [],
   "source": [
    "# references \n",
    "url = \"https://docs.scipy.org/doc/numpy-1.13.0/reference/\"\n",
    "url = \"https://docs.scipy.org/doc/numpy-1.13.0/user/basics.broadcasting.html\"\n",
    "url = \"https://eli.thegreenplace.net/2015/broadcasting-arrays-in-numpy/\"\n",
    "url = \"https://www.tensorflow.org/xla/broadcasting\""
   ]
  }
 ],
 "metadata": {
  "language_info": {
   "name": "python",
   "codemirror_mode": {
    "name": "ipython",
    "version": 3
   },
   "version": "3.6.2-final"
  },
  "orig_nbformat": 2,
  "file_extension": ".py",
  "mimetype": "text/x-python",
  "name": "python",
  "npconvert_exporter": "python",
  "pygments_lexer": "ipython3",
  "version": 3,
  "kernelspec": {
   "name": "python36232bit9ad07925fccb43cbb589a2c0aaf2719c",
   "display_name": "Python 3.6.2 32-bit"
  }
 },
 "nbformat": 4,
 "nbformat_minor": 2
}